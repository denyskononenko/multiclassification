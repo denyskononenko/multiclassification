{
 "cells": [
  {
   "cell_type": "code",
   "execution_count": 24,
   "metadata": {},
   "outputs": [],
   "source": [
    "import os\n",
    "import numpy as np\n",
    "import matplotlib.pyplot as plt\n",
    "import numpy as np\n",
    "import pandas as pd\n",
    "\n",
    "from keras.models import Sequential\n",
    "from keras.layers import Dense\n",
    "from sklearn.model_selection import train_test_split\n",
    "from sklearn.feature_extraction.text import TfidfVectorizer\n"
   ]
  },
  {
   "cell_type": "code",
   "execution_count": 25,
   "metadata": {},
   "outputs": [],
   "source": [
    "dat = pd.read_csv(os.getcwd() + \"/data/Question_Classification_Dataset.csv\")\n",
    "col = [\"Questions\", \"Category1\"]\n",
    "dat = dat[col]\n",
    "dat[\"Category_id\"] = dat[\"Category1\"].factorize()[0]\n",
    "class_num = dat[\"Category_id\"].unique()\n",
    "\n",
    "tfidf = TfidfVectorizer(min_df=4, encoding='latin-1', ngram_range=(1, 2), stop_words='english', sublinear_tf=True)\n",
    "features = tfidf.fit_transform(dat.Questions).toarray()\n",
    "fitted_vectorizer = tfidf.fit(dat.Questions)\n",
    "labels = dat.Category_id"
   ]
  },
  {
   "cell_type": "code",
   "execution_count": 41,
   "metadata": {},
   "outputs": [
    {
     "name": "stdout",
     "output_type": "stream",
     "text": [
      "(4361, 1596) (1091, 1596)\n"
     ]
    }
   ],
   "source": [
    "X_train, X_test, Y_train, Y_test = train_test_split(features, labels, test_size=0.2, random_state=0)\n",
    "Y_train = np.array(Y_train)\n",
    "Y_test = np.array(Y_test)\n",
    "print(X_train.shape, X_test.shape)"
   ]
  },
  {
   "cell_type": "code",
   "execution_count": 64,
   "metadata": {},
   "outputs": [],
   "source": [
    "def tr_y(x):\n",
    "    \"\"\"\n",
    "    Convert class label in respective vector.\n",
    "    5 -> [0,0,0,0,0,1]\n",
    "    \"\"\"\n",
    "    empty = [0, 0, 0, 0, 0, 0]\n",
    "    empty[x] = 1\n",
    "    return empty\n",
    "\n",
    "def tr_y_inverse(arr):\n",
    "    \"\"\"\n",
    "    Convert class vector in the class label.\n",
    "    [0,0,0,0,0,1] -> 5\n",
    "    \"\"\"\n",
    "    return sum([x * i for i, x in enumerate(arr)])\n"
   ]
  },
  {
   "cell_type": "code",
   "execution_count": 46,
   "metadata": {},
   "outputs": [],
   "source": [
    "Y_train_vec = np.array([tr_y(y) for y in  Y_train])\n",
    "Y_test_vec = np.array([tr_y(y) for y in  Y_test])"
   ]
  },
  {
   "cell_type": "code",
   "execution_count": 51,
   "metadata": {},
   "outputs": [],
   "source": [
    "class N_classifier():\n",
    "    def __init__(self, train_data, train_class):\n",
    "        self.train_data = train_data\n",
    "        self.train_class = train_class\n",
    "    \n",
    "    def model(self):\n",
    "        \"\"\"\n",
    "        Neural network architecture.\n",
    "        \"\"\"\n",
    "        # define the keras model\n",
    "        model = Sequential()\n",
    "        model.add(Dense(self.train_data.shape[1], input_dim=self.train_data.shape[1], activation='relu'))\n",
    "        model.add(Dense(self.train_data.shape[1], activation='relu'))\n",
    "        model.add(Dense(6, activation='sigmoid'))\n",
    "        # compile the keras model\n",
    "        model.compile(loss='binary_crossentropy', optimizer='adam', metrics=['accuracy'])\n",
    "        # fit the keras model on the dataset\n",
    "        model.fit(self.train_data, self.train_class, epochs=10, batch_size=10)\n",
    "        return model\n",
    "        "
   ]
  },
  {
   "cell_type": "code",
   "execution_count": 52,
   "metadata": {},
   "outputs": [
    {
     "name": "stdout",
     "output_type": "stream",
     "text": [
      "Epoch 1/10\n",
      "4361/4361 [==============================] - 74s 17ms/step - loss: 0.3313 - acc: 0.8670\n",
      "Epoch 2/10\n",
      "4361/4361 [==============================] - 68s 16ms/step - loss: 0.1880 - acc: 0.9264\n",
      "Epoch 3/10\n",
      "4361/4361 [==============================] - 67s 15ms/step - loss: 0.1273 - acc: 0.9501\n",
      "Epoch 4/10\n",
      "4361/4361 [==============================] - 59s 14ms/step - loss: 0.0943 - acc: 0.9635\n",
      "Epoch 5/10\n",
      "4361/4361 [==============================] - 59s 14ms/step - loss: 0.0762 - acc: 0.9706\n",
      "Epoch 6/10\n",
      "4361/4361 [==============================] - 53s 12ms/step - loss: 0.0653 - acc: 0.9729\n",
      "Epoch 7/10\n",
      "4361/4361 [==============================] - 52s 12ms/step - loss: 0.0595 - acc: 0.9745\n",
      "Epoch 8/10\n",
      "4361/4361 [==============================] - 56s 13ms/step - loss: 0.0565 - acc: 0.9749\n",
      "Epoch 9/10\n",
      "4361/4361 [==============================] - 60s 14ms/step - loss: 0.0540 - acc: 0.9755\n",
      "Epoch 10/10\n",
      "4361/4361 [==============================] - 63s 14ms/step - loss: 0.0530 - acc: 0.9757\n"
     ]
    }
   ],
   "source": [
    "nn = N_classifier(X_train, Y_train_vec)\n",
    "model = nn.model()"
   ]
  },
  {
   "cell_type": "code",
   "execution_count": 53,
   "metadata": {},
   "outputs": [],
   "source": [
    "model.save(os.getcwd() + \"/doc/model_dat/model_10ep.h5\")\n",
    "model.save_weights(os.getcwd() + \"/doc/model_dat/model_param_10ep.h5\")"
   ]
  },
  {
   "cell_type": "code",
   "execution_count": 62,
   "metadata": {},
   "outputs": [
    {
     "name": "stdout",
     "output_type": "stream",
     "text": [
      "1091/1091 [==============================] - 0s 231us/step\n",
      "Accuracy: 87.56\n"
     ]
    }
   ],
   "source": [
    "_, accuracy = model.evaluate(X_test, Y_test_vec)\n",
    "print('Accuracy: %.2f' % (accuracy*100))"
   ]
  },
  {
   "cell_type": "code",
   "execution_count": null,
   "metadata": {},
   "outputs": [],
   "source": []
  }
 ],
 "metadata": {
  "kernelspec": {
   "display_name": "Python 3",
   "language": "python",
   "name": "python3"
  },
  "language_info": {
   "codemirror_mode": {
    "name": "ipython",
    "version": 3
   },
   "file_extension": ".py",
   "mimetype": "text/x-python",
   "name": "python",
   "nbconvert_exporter": "python",
   "pygments_lexer": "ipython3",
   "version": "3.7.3"
  }
 },
 "nbformat": 4,
 "nbformat_minor": 2
}
